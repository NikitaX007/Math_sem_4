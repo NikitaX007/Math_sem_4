{
 "cells": [
  {
   "cell_type": "markdown",
   "id": "11c41b80",
   "metadata": {},
   "source": [
    "**Непрерывная случайная величина X распределена нормально и задана плотностью распределения $\\displaystyle f(x)=\\frac{1}{4\\cdot\\sqrt{2\\pi}}\\cdot e^{-\\frac{(x+2)^2}{32}}$, Найдите:**  \n",
    "   **а) $M(X)$**  \n",
    "   **б) $D(X)$**  \n",
    "   **в) $\\displaystyle\\sigma$ (среднее квадратичное отклонение)**"
   ]
  },
  {
   "cell_type": "markdown",
   "id": "8b786f6d",
   "metadata": {},
   "source": [
    "Из общей формулы плотности нормального распределения:  \n",
    "$\\displaystyle f(x)=\\frac{1}{\\sigma\\sqrt{2\\pi}}\\cdot e^{-\\frac{(x-a)^2}{2\\sigma^2}}$  \n",
    "$M(X)=a=-2\\\\\\sigma = 4\\\\D(X)=\\sigma^2=16$"
   ]
  },
  {
   "cell_type": "markdown",
   "id": "4e7f66da",
   "metadata": {},
   "source": [
    "#### Ответ:  \n",
    "$M(X)=-2\\\\D(X)=16\\\\\\displaystyle\\sigma=4$  "
   ]
  }
 ],
 "metadata": {
  "kernelspec": {
   "display_name": "Python 3 (ipykernel)",
   "language": "python",
   "name": "python3"
  },
  "language_info": {
   "codemirror_mode": {
    "name": "ipython",
    "version": 3
   },
   "file_extension": ".py",
   "mimetype": "text/x-python",
   "name": "python",
   "nbconvert_exporter": "python",
   "pygments_lexer": "ipython3",
   "version": "3.9.13"
  }
 },
 "nbformat": 4,
 "nbformat_minor": 5
}
