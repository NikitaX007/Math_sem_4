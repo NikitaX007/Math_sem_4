{
 "cells": [
  {
   "cell_type": "code",
   "execution_count": 1,
   "id": "269eb15a",
   "metadata": {},
   "outputs": [
    {
     "name": "stdout",
     "output_type": "stream",
     "text": [
      "Левая граница распределения величины В - b =  2.049\n",
      "Среднее значение В на промежутке (0.5;  2.049) M(B) =  1.275\n"
     ]
    }
   ],
   "source": [
    "b=0.5+2.4**(1/2)\n",
    "print(f'Левая граница распределения величины В - b = {b: .3f}\\n'\n",
    "      f'Среднее значение В на промежутке (0.5; {b: .3f}) M(B) = {(b+0.5)/2: .3f}'     \n",
    "     )"
   ]
  }
 ],
 "metadata": {
  "kernelspec": {
   "display_name": "Python 3 (ipykernel)",
   "language": "python",
   "name": "python3"
  },
  "language_info": {
   "codemirror_mode": {
    "name": "ipython",
    "version": 3
   },
   "file_extension": ".py",
   "mimetype": "text/x-python",
   "name": "python",
   "nbconvert_exporter": "python",
   "pygments_lexer": "ipython3",
   "version": "3.9.13"
  }
 },
 "nbformat": 4,
 "nbformat_minor": 5
}
