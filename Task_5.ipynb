{
 "cells": [
  {
   "cell_type": "markdown",
   "id": "e5131118",
   "metadata": {},
   "source": [
    "Воспользуемся формулой расчета $Z$-оценки:  \n",
    "$\\displaystyle Z=\\frac{X-\\bar x}{\\sigma}=\\frac{190-178}{\\sqrt{25}}=\\frac{12}{5}$    "
   ]
  },
  {
   "cell_type": "code",
   "execution_count": 1,
   "id": "587a56d2",
   "metadata": {},
   "outputs": [
    {
     "data": {
      "text/plain": [
       "2.4"
      ]
     },
     "execution_count": 1,
     "metadata": {},
     "output_type": "execute_result"
    }
   ],
   "source": [
    "Z=(190-178)/25**(1/2)\n",
    "Z"
   ]
  },
  {
   "cell_type": "code",
   "execution_count": 2,
   "id": "beb0042f",
   "metadata": {},
   "outputs": [
    {
     "name": "stdout",
     "output_type": "stream",
     "text": [
      "Рост человека, равный 190 см, отклоняется от математического ожидания роста в популяции, \n",
      "в которой M(X) = 178 см и D(X) = 25 кв.см на Z = 2.4 сигм.\n"
     ]
    }
   ],
   "source": [
    "print(f'Рост человека, равный 190 см, отклоняется от математического ожидания роста в популяции, \\n'\n",
    "      f'в которой M(X) = 178 см и D(X) = 25 кв.см на Z = {Z} сигм.')"
   ]
  }
 ],
 "metadata": {
  "kernelspec": {
   "display_name": "Python 3 (ipykernel)",
   "language": "python",
   "name": "python3"
  },
  "language_info": {
   "codemirror_mode": {
    "name": "ipython",
    "version": 3
   },
   "file_extension": ".py",
   "mimetype": "text/x-python",
   "name": "python",
   "nbconvert_exporter": "python",
   "pygments_lexer": "ipython3",
   "version": "3.9.13"
  }
 },
 "nbformat": 4,
 "nbformat_minor": 5
}
