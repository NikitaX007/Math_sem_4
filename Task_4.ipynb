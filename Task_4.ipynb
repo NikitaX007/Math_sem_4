{
 "cells": [
  {
   "cell_type": "code",
   "execution_count": 1,
   "id": "ff7e7eaf",
   "metadata": {},
   "outputs": [],
   "source": [
    "def z_value(height):\n",
    "    return (height-174)/8"
   ]
  },
  {
   "cell_type": "code",
   "execution_count": 2,
   "id": "d1295201",
   "metadata": {},
   "outputs": [],
   "source": [
    "from statistics import NormalDist"
   ]
  },
  {
   "cell_type": "code",
   "execution_count": 3,
   "id": "6d33aa08",
   "metadata": {},
   "outputs": [],
   "source": [
    "## а)"
   ]
  },
  {
   "cell_type": "code",
   "execution_count": 4,
   "id": "e13da2b4",
   "metadata": {},
   "outputs": [
    {
     "name": "stdout",
     "output_type": "stream",
     "text": [
      "1.0\n"
     ]
    }
   ],
   "source": [
    "print(z_value(182))"
   ]
  },
  {
   "cell_type": "code",
   "execution_count": 5,
   "id": "0e3d2349",
   "metadata": {},
   "outputs": [
    {
     "data": {
      "text/plain": [
       "0.8413447460685428"
      ]
     },
     "execution_count": 5,
     "metadata": {},
     "output_type": "execute_result"
    }
   ],
   "source": [
    "NormalDist().cdf(z_value(182))"
   ]
  },
  {
   "cell_type": "code",
   "execution_count": 6,
   "id": "77962cac",
   "metadata": {},
   "outputs": [
    {
     "data": {
      "text/plain": [
       "0.15865525393145719"
      ]
     },
     "execution_count": 6,
     "metadata": {},
     "output_type": "execute_result"
    }
   ],
   "source": [
    "P=1-NormalDist().cdf(z_value(182))\n",
    "P"
   ]
  },
  {
   "cell_type": "markdown",
   "id": "90fb20dd",
   "metadata": {},
   "source": [
    "$P(X\\ge182)=0.15865525393145719$  "
   ]
  },
  {
   "cell_type": "code",
   "execution_count": 7,
   "id": "a8b3fea1",
   "metadata": {},
   "outputs": [],
   "source": [
    "## б"
   ]
  },
  {
   "cell_type": "code",
   "execution_count": 8,
   "id": "0d0b19a4",
   "metadata": {},
   "outputs": [
    {
     "data": {
      "text/plain": [
       "2.0"
      ]
     },
     "execution_count": 8,
     "metadata": {},
     "output_type": "execute_result"
    }
   ],
   "source": [
    "z=z_value(190)\n",
    "z"
   ]
  },
  {
   "cell_type": "code",
   "execution_count": 9,
   "id": "d410da79",
   "metadata": {},
   "outputs": [
    {
     "data": {
      "text/plain": [
       "0.022750131948179098"
      ]
     },
     "execution_count": 9,
     "metadata": {},
     "output_type": "execute_result"
    }
   ],
   "source": [
    "P=1-NormalDist().cdf(z)\n",
    "P"
   ]
  },
  {
   "cell_type": "markdown",
   "id": "820b4882",
   "metadata": {},
   "source": [
    "$P(X\\ge190)=0.022750131948179098$  "
   ]
  },
  {
   "cell_type": "code",
   "execution_count": 10,
   "id": "04b98651",
   "metadata": {},
   "outputs": [],
   "source": [
    "## в"
   ]
  },
  {
   "cell_type": "code",
   "execution_count": 11,
   "id": "21ef901f",
   "metadata": {},
   "outputs": [
    {
     "data": {
      "text/plain": [
       "-1.0"
      ]
     },
     "execution_count": 11,
     "metadata": {},
     "output_type": "execute_result"
    }
   ],
   "source": [
    "z1=z_value(166)\n",
    "z1"
   ]
  },
  {
   "cell_type": "code",
   "execution_count": 12,
   "id": "2e8873e7",
   "metadata": {},
   "outputs": [
    {
     "data": {
      "text/plain": [
       "2.0"
      ]
     },
     "execution_count": 12,
     "metadata": {},
     "output_type": "execute_result"
    }
   ],
   "source": [
    "z2=z_value(190)\n",
    "z2"
   ]
  },
  {
   "cell_type": "code",
   "execution_count": 13,
   "id": "3d8bfb13",
   "metadata": {},
   "outputs": [
    {
     "data": {
      "text/plain": [
       "0.8185946141203637"
      ]
     },
     "execution_count": 13,
     "metadata": {},
     "output_type": "execute_result"
    }
   ],
   "source": [
    "P=NormalDist().cdf(z2)-NormalDist().cdf(z1)\n",
    "P"
   ]
  },
  {
   "cell_type": "markdown",
   "id": "554a0959",
   "metadata": {},
   "source": [
    "$P(166\\le X\\le 190)=0.8185946141203637$  "
   ]
  },
  {
   "cell_type": "code",
   "execution_count": 14,
   "id": "f9f4bf85",
   "metadata": {},
   "outputs": [],
   "source": [
    "## г"
   ]
  },
  {
   "cell_type": "code",
   "execution_count": 15,
   "id": "515de5bf",
   "metadata": {},
   "outputs": [
    {
     "data": {
      "text/plain": [
       "-1.0"
      ]
     },
     "execution_count": 15,
     "metadata": {},
     "output_type": "execute_result"
    }
   ],
   "source": [
    "z1=z_value(166)\n",
    "z1"
   ]
  },
  {
   "cell_type": "code",
   "execution_count": 16,
   "id": "6b4bbf52",
   "metadata": {},
   "outputs": [
    {
     "data": {
      "text/plain": [
       "1.0"
      ]
     },
     "execution_count": 16,
     "metadata": {},
     "output_type": "execute_result"
    }
   ],
   "source": [
    "z2=z_value(182)\n",
    "z2"
   ]
  },
  {
   "cell_type": "code",
   "execution_count": 17,
   "id": "ac914dfc",
   "metadata": {},
   "outputs": [
    {
     "data": {
      "text/plain": [
       "0.6826894921370856"
      ]
     },
     "execution_count": 17,
     "metadata": {},
     "output_type": "execute_result"
    }
   ],
   "source": [
    "P=NormalDist().cdf(z2)-NormalDist().cdf(z1)\n",
    "P"
   ]
  },
  {
   "cell_type": "markdown",
   "id": "aecf2456",
   "metadata": {},
   "source": [
    "$P(166\\le X\\le 182)=0.6826894921370856$  "
   ]
  },
  {
   "cell_type": "code",
   "execution_count": 18,
   "id": "aa4ef565",
   "metadata": {},
   "outputs": [],
   "source": [
    "## д"
   ]
  },
  {
   "cell_type": "code",
   "execution_count": 19,
   "id": "522722ab",
   "metadata": {},
   "outputs": [
    {
     "data": {
      "text/plain": [
       "-2.0"
      ]
     },
     "execution_count": 19,
     "metadata": {},
     "output_type": "execute_result"
    }
   ],
   "source": [
    "z1=z_value(158)\n",
    "z1"
   ]
  },
  {
   "cell_type": "code",
   "execution_count": 20,
   "id": "9c6d85ab",
   "metadata": {},
   "outputs": [
    {
     "data": {
      "text/plain": [
       "2.0"
      ]
     },
     "execution_count": 20,
     "metadata": {},
     "output_type": "execute_result"
    }
   ],
   "source": [
    "z2=z_value(190)\n",
    "z2"
   ]
  },
  {
   "cell_type": "code",
   "execution_count": 21,
   "id": "c9b5e546",
   "metadata": {},
   "outputs": [
    {
     "data": {
      "text/plain": [
       "0.9544997361036418"
      ]
     },
     "execution_count": 21,
     "metadata": {},
     "output_type": "execute_result"
    }
   ],
   "source": [
    "P=NormalDist().cdf(z2)-NormalDist().cdf(z1)\n",
    "P"
   ]
  },
  {
   "cell_type": "markdown",
   "id": "36c6f0ac",
   "metadata": {},
   "source": [
    "$P(158\\le X\\le 190)=0.9544997361036418$ "
   ]
  },
  {
   "cell_type": "code",
   "execution_count": 22,
   "id": "16e448fd",
   "metadata": {},
   "outputs": [],
   "source": [
    "## е"
   ]
  },
  {
   "cell_type": "code",
   "execution_count": 23,
   "id": "cbfd9a6c",
   "metadata": {},
   "outputs": [
    {
     "data": {
      "text/plain": [
       "-3.0"
      ]
     },
     "execution_count": 23,
     "metadata": {},
     "output_type": "execute_result"
    }
   ],
   "source": [
    "z1=z_value(150)\n",
    "z1"
   ]
  },
  {
   "cell_type": "code",
   "execution_count": 24,
   "id": "ed2fd15a",
   "metadata": {},
   "outputs": [
    {
     "data": {
      "text/plain": [
       "2.0"
      ]
     },
     "execution_count": 24,
     "metadata": {},
     "output_type": "execute_result"
    }
   ],
   "source": [
    "z2=z_value(190)\n",
    "z2"
   ]
  },
  {
   "cell_type": "code",
   "execution_count": 25,
   "id": "d5f2eb6d",
   "metadata": {},
   "outputs": [
    {
     "data": {
      "text/plain": [
       "0.0241000299798092"
      ]
     },
     "execution_count": 25,
     "metadata": {},
     "output_type": "execute_result"
    }
   ],
   "source": [
    "P=NormalDist().cdf(z1)+(1-NormalDist().cdf(z2))\n",
    "P"
   ]
  },
  {
   "cell_type": "markdown",
   "id": "d9530fec",
   "metadata": {},
   "source": [
    "$P(X\\le150\\cup X\\ge 190)=\n",
    "0.0241000299798092$ "
   ]
  },
  {
   "cell_type": "code",
   "execution_count": 26,
   "id": "05248b4c",
   "metadata": {},
   "outputs": [],
   "source": [
    "## ё"
   ]
  },
  {
   "cell_type": "code",
   "execution_count": 27,
   "id": "ee488232",
   "metadata": {},
   "outputs": [
    {
     "data": {
      "text/plain": [
       "-3.0"
      ]
     },
     "execution_count": 27,
     "metadata": {},
     "output_type": "execute_result"
    }
   ],
   "source": [
    "z1=z_value(150)\n",
    "z1"
   ]
  },
  {
   "cell_type": "code",
   "execution_count": 28,
   "id": "2fea008b",
   "metadata": {},
   "outputs": [
    {
     "data": {
      "text/plain": [
       "3.0"
      ]
     },
     "execution_count": 28,
     "metadata": {},
     "output_type": "execute_result"
    }
   ],
   "source": [
    "z2=z_value(198)\n",
    "z2"
   ]
  },
  {
   "cell_type": "code",
   "execution_count": 29,
   "id": "8f183425",
   "metadata": {},
   "outputs": [
    {
     "data": {
      "text/plain": [
       "0.002699796063260207"
      ]
     },
     "execution_count": 29,
     "metadata": {},
     "output_type": "execute_result"
    }
   ],
   "source": [
    "P=NormalDist().cdf(z1)+(1-NormalDist().cdf(z2))\n",
    "P"
   ]
  },
  {
   "cell_type": "markdown",
   "id": "0f74390b",
   "metadata": {},
   "source": [
    "$P(X\\le150\\cup X\\ge 198)=0.002699796063260207$  "
   ]
  },
  {
   "cell_type": "code",
   "execution_count": 30,
   "id": "d85dccf7",
   "metadata": {},
   "outputs": [],
   "source": [
    "## ж"
   ]
  },
  {
   "cell_type": "code",
   "execution_count": 31,
   "id": "ce77adc7",
   "metadata": {},
   "outputs": [
    {
     "data": {
      "text/plain": [
       "-1.0"
      ]
     },
     "execution_count": 31,
     "metadata": {},
     "output_type": "execute_result"
    }
   ],
   "source": [
    "z=z_value(166)\n",
    "z"
   ]
  },
  {
   "cell_type": "code",
   "execution_count": 32,
   "id": "f45b01dd",
   "metadata": {},
   "outputs": [
    {
     "data": {
      "text/plain": [
       "0.15865525393145713"
      ]
     },
     "execution_count": 32,
     "metadata": {},
     "output_type": "execute_result"
    }
   ],
   "source": [
    "P=NormalDist().cdf(z)\n",
    "P"
   ]
  },
  {
   "cell_type": "markdown",
   "id": "c2e25b84",
   "metadata": {},
   "source": [
    "$P(X\\le166)=0.15865525393145713$  "
   ]
  }
 ],
 "metadata": {
  "kernelspec": {
   "display_name": "Python 3 (ipykernel)",
   "language": "python",
   "name": "python3"
  },
  "language_info": {
   "codemirror_mode": {
    "name": "ipython",
    "version": 3
   },
   "file_extension": ".py",
   "mimetype": "text/x-python",
   "name": "python",
   "nbconvert_exporter": "python",
   "pygments_lexer": "ipython3",
   "version": "3.9.13"
  }
 },
 "nbformat": 4,
 "nbformat_minor": 5
}
