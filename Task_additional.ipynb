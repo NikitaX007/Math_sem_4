{
 "cells": [
  {
   "cell_type": "code",
   "execution_count": 1,
   "metadata": {},
   "outputs": [],
   "source": [
    "import warnings\n",
    "\n",
    "import numpy as np\n",
    "import pandas as pd\n",
    "from matplotlib import pyplot as plt\n",
    "\n",
    "warnings.filterwarnings('ignore')"
   ]
  },
  {
   "cell_type": "code",
   "execution_count": 2,
   "metadata": {},
   "outputs": [],
   "source": [
    "def mean_salary(salary):\n",
    "    if len(salary) > 0:\n",
    "        mean_salary_1 = salary.sum() / len(salary)\n",
    "        mean_salary_2 = salary.mean()\n",
    "        print(f'Среднее арифметическое равно {mean_salary_1} (проверка {mean_salary_2})')\n",
    "\n",
    "def std_salary(salary):\n",
    "    if len(salary) > 0:\n",
    "        std_salary_1 = np.sqrt(((salary - salary.mean()) ** 2).sum() / len(salary))\n",
    "        std_salary_2 = salary.std(ddof=0)\n",
    "        print(f'Среднее квадратичное отклонение {std_salary_1} (проверка {std_salary_2})')\n",
    "\n",
    "def variance_salary1(salary):\n",
    "    if len(salary) > 0:\n",
    "        variance_salary_1 = ((salary - salary.mean()) ** 2).sum() / len(salary)\n",
    "        variance_salary_2 = salary.var(ddof=0)\n",
    "        print(f'Cмещенная оценка дисперсии  {variance_salary_1} (проверка {variance_salary_2})')\n",
    "\n",
    "def variance_salary2(salary):\n",
    "    if len(salary) > 0:\n",
    "        variance_salary2_1 = ((salary - salary.mean()) ** 2).sum() / (len(salary) - 1)\n",
    "        variance_salary2_2 = salary.var(ddof=1)\n",
    "        print(f'Несмещенная оценка дисперсии  {variance_salary2_1} (проверка {variance_salary2_2})')   "
   ]
  },
  {
   "cell_type": "code",
   "execution_count": 3,
   "metadata": {},
   "outputs": [
    {
     "name": "stdout",
     "output_type": "stream",
     "text": [
      "Среднее арифметическое равно 65.3 (проверка 65.3)\n",
      "Среднее квадратичное отклонение 30.823854398825596 (проверка 30.823854398825596)\n",
      "Cмещенная оценка дисперсии  950.11 (проверка 950.11)\n",
      "Несмещенная оценка дисперсии  1000.1157894736842 (проверка 1000.1157894736842)\n"
     ]
    }
   ],
   "source": [
    "salary = np.array([100, 80, 75, 77, 89, 33, 45, 25, 65, 17, 30, 24, 57, 55, 70, 75, 65, 84, 90, 150])\n",
    "mean_salary(salary)\n",
    "std_salary(salary)\n",
    "variance_salary1(salary)\n",
    "variance_salary2(salary)"
   ]
  },
  {
   "cell_type": "code",
   "execution_count": 4,
   "metadata": {},
   "outputs": [
    {
     "name": "stdout",
     "output_type": "stream",
     "text": [
      "Первый квартиль: 42.0\n",
      "Трейтий квартиль: 81.0\n",
      "Интерквартильное расстояние: 39.0\n"
     ]
    }
   ],
   "source": [
    "df_salary = pd.DataFrame(salary)\n",
    "q1 = df_salary[0].quantile(0.25)\n",
    "q3 = df_salary[0].quantile(0.75)\n",
    "iqr = q3 - q1\n",
    "\n",
    "print(f'Первый квартиль: {q1}')\n",
    "print(f'Трейтий квартиль: {q3}')\n",
    "print(f'Интерквартильное расстояние: {iqr}')"
   ]
  },
  {
   "cell_type": "code",
   "execution_count": 5,
   "metadata": {},
   "outputs": [
    {
     "data": {
      "text/plain": [
       "<AxesSubplot: >"
      ]
     },
     "execution_count": 5,
     "metadata": {},
     "output_type": "execute_result"
    },
    {
     "data": {
      "image/png": "[encoded data removed]",
      "text/plain": [
       "<Figure size 640x480 with 1 Axes>"
      ]
     },
     "metadata": {},
     "output_type": "display_data"
    }
   ],
   "source": [
    "df_salary.boxplot()"
   ]
  },
  {
   "cell_type": "code",
   "execution_count": 6,
   "metadata": {},
   "outputs": [
    {
     "data": {
      "text/plain": [
       "(-16.5, 139.5)"
      ]
     },
     "execution_count": 6,
     "metadata": {},
     "output_type": "execute_result"
    }
   ],
   "source": [
    "boxplot_range = (q1 - 1.5 * iqr, q3 + 1.5 * iqr)\n",
    "boxplot_range"
   ]
  },
  {
   "cell_type": "code",
   "execution_count": 7,
   "metadata": {},
   "outputs": [
    {
     "name": "stdout",
     "output_type": "stream",
     "text": [
      "Выбросы: 150    1\n",
      "Name: 0, dtype: int64\n"
     ]
    }
   ],
   "source": [
    "outliers = df_salary.loc[(df_salary[0] < boxplot_range[0]) | (df_salary[0] > boxplot_range[1])]\n",
    "print(f'Выбросы: {outliers[0].value_counts()}')"
   ]
  }
 ],
 "metadata": {
  "kernelspec": {
   "display_name": "Python 3",
   "language": "python",
   "name": "python3"
  },
  "language_info": {
   "codemirror_mode": {
    "name": "ipython",
    "version": 3
   },
   "file_extension": ".py",
   "mimetype": "text/x-python",
   "name": "python",
   "nbconvert_exporter": "python",
   "pygments_lexer": "ipython3",
   "version": "3.10.9"
  },
  "orig_nbformat": 4,
  "vscode": {
   "interpreter": {
    "hash": "3727e6f567fba6cced93782b723581f5832b6812189ba1e48476b7606d89b650"
   }
  }
 },
 "nbformat": 4,
 "nbformat_minor": 2
}
